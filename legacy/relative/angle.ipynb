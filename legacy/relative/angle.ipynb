{
 "cells": [
  {
   "cell_type": "code",
   "execution_count": 36,
   "metadata": {},
   "outputs": [],
   "source": [
    "import numpy as np\n",
    "from sklearn.datasets import make_classification, make_blobs"
   ]
  },
  {
   "cell_type": "code",
   "execution_count": 81,
   "metadata": {},
   "outputs": [],
   "source": [
    "X, y = make_blobs(n_samples=100, n_features=10, centers= [np.ones(10) * 2, -np.ones(10) * 2])"
   ]
  },
  {
   "cell_type": "code",
   "execution_count": 71,
   "metadata": {},
   "outputs": [],
   "source": [
    "def calc_gamma_dataset(data):\n",
    "    return (data @ data.T) / np.linalg.norm(data, axis=1)[None, :] / np.linalg.norm(data, axis=1)[:, None]"
   ]
  },
  {
   "cell_type": "code",
   "execution_count": 70,
   "metadata": {},
   "outputs": [
    {
     "data": {
      "text/plain": [
       "array([[ 1.        , -0.99467319, -0.99348429, ...,  0.99409376,\n",
       "        -0.99777812, -0.99264854],\n",
       "       [-0.99467319,  1.        ,  0.99198949, ..., -0.99276987,\n",
       "         0.99162268,  0.99495068],\n",
       "       [-0.99348429,  0.99198949,  1.        , ..., -0.98757028,\n",
       "         0.99432017,  0.99068225],\n",
       "       ...,\n",
       "       [ 0.99409376, -0.99276987, -0.98757028, ...,  1.        ,\n",
       "        -0.99034925, -0.98712399],\n",
       "       [-0.99777812,  0.99162268,  0.99432017, ..., -0.99034925,\n",
       "         1.        ,  0.99556945],\n",
       "       [-0.99264854,  0.99495068,  0.99068225, ..., -0.98712399,\n",
       "         0.99556945,  1.        ]])"
      ]
     },
     "execution_count": 70,
     "metadata": {},
     "output_type": "execute_result"
    }
   ],
   "source": [
    "(X @ X.T) / np.linalg.norm(X, axis=1)[None, :] / np.linalg.norm(X, axis=1)[:, None]"
   ]
  },
  {
   "cell_type": "code",
   "execution_count": 82,
   "metadata": {},
   "outputs": [
    {
     "data": {
      "text/plain": [
       "0.28444756518011605"
      ]
     },
     "execution_count": 82,
     "metadata": {},
     "output_type": "execute_result"
    }
   ],
   "source": [
    "yy = y * 2 - 1\n",
    "z = (yy[:, None] @ yy[None, :])\n",
    "t = calc_gamma_dataset(X) * z\n",
    "t.min()"
   ]
  },
  {
   "cell_type": "code",
   "execution_count": 84,
   "metadata": {},
   "outputs": [],
   "source": [
    "sigmoid = lambda x: 1 / (1 + np.exp(-x))"
   ]
  },
  {
   "cell_type": "code",
   "execution_count": null,
   "metadata": {},
   "outputs": [],
   "source": [
    "def calc_grad(x, y):\n",
    "    return x * (y * sigmoid(x @ ))"
   ]
  },
  {
   "cell_type": "code",
   "execution_count": null,
   "metadata": {},
   "outputs": [],
   "source": []
  },
  {
   "cell_type": "code",
   "execution_count": null,
   "metadata": {},
   "outputs": [],
   "source": []
  },
  {
   "cell_type": "code",
   "execution_count": null,
   "metadata": {},
   "outputs": [],
   "source": []
  }
 ],
 "metadata": {
  "kernelspec": {
   "display_name": "Python 3",
   "language": "python",
   "name": "python3"
  },
  "language_info": {
   "codemirror_mode": {
    "name": "ipython",
    "version": 3
   },
   "file_extension": ".py",
   "mimetype": "text/x-python",
   "name": "python",
   "nbconvert_exporter": "python",
   "pygments_lexer": "ipython3",
   "version": "3.8.10 (default, Jun 22 2022, 20:18:18) \n[GCC 9.4.0]"
  },
  "orig_nbformat": 4,
  "vscode": {
   "interpreter": {
    "hash": "916dbcbb3f70747c44a77c7bcd40155683ae19c65e1c03b4aa3499c5328201f1"
   }
  }
 },
 "nbformat": 4,
 "nbformat_minor": 2
}
