{
 "cells": [
  {
   "cell_type": "code",
   "execution_count": 5,
   "metadata": {},
   "outputs": [],
   "source": [
    "import numpy as np\n",
    "import matplotlib.pyplot as plt\n",
    "import seaborn as sns\n",
    "\n",
    "from tqdm import tqdm_notebook\n"
   ]
  },
  {
   "cell_type": "code",
   "execution_count": 41,
   "metadata": {},
   "outputs": [],
   "source": [
    "def new_alpha(last_A, mu, L):\n",
    "    x = (1 + mu * last_A) / 2 / L\n",
    "    y = (1 + mu * last_A) / 2 / L\n",
    "    z = last_A * (1 + mu * last_A) / L\n",
    "    return x + np.sqrt(y ** 2 + z)\n",
    "\n",
    "\n",
    "def generate_seq(delta_0, mu, L, alpha, R, iters = 100):\n",
    "    coef = alpha * R * np.sqrt(2 * L)\n",
    "    print(coef)\n",
    "    a0 = 1 / L\n",
    "    A0 = 1 / L\n",
    "    sseq = [coef * delta_0 * a0]\n",
    "    deltaseq = [delta_0]\n",
    "    aseq = [a0]\n",
    "    Aseq = [A0]\n",
    "    for j in tqdm_notebook(range(iters)):\n",
    "        new_a = new_alpha(Aseq[-1], mu, L)\n",
    "        add = coef * aseq[-1] * deltaseq[-1]\n",
    "        # add = 0\n",
    "        newA = Aseq[-1] + new_a\n",
    "        # add += 0.1 * Aseq[-1] * deltaseq[-1] ** 2\n",
    "        sseq.append(sseq[-1] + add)\n",
    "        newA = Aseq[-1] + new_a\n",
    "        val = 2 * R ** 2 + sseq[-1]\n",
    "        new_delta = np.sqrt(val / newA)\n",
    "        deltaseq.append(new_delta)\n",
    "        aseq.append(new_a)\n",
    "        Aseq.append(newA)\n",
    "    return deltaseq\n"
   ]
  },
  {
   "cell_type": "code",
   "execution_count": 46,
   "metadata": {},
   "outputs": [
    {
     "name": "stdout",
     "output_type": "stream",
     "text": [
      "0.2\n"
     ]
    },
    {
     "name": "stderr",
     "output_type": "stream",
     "text": [
      "/tmp/ipykernel_1699636/2857212885.py:17: TqdmDeprecationWarning: This function will be removed in tqdm==5.0.0\n",
      "Please use `tqdm.notebook.tqdm` instead of `tqdm.tqdm_notebook`\n",
      "  for j in tqdm_notebook(range(iters)):\n"
     ]
    },
    {
     "data": {
      "application/vnd.jupyter.widget-view+json": {
       "model_id": "43b0c4f50eca4153a84fd75b55678c17",
       "version_major": 2,
       "version_minor": 0
      },
      "text/plain": [
       "  0%|          | 0/100 [00:00<?, ?it/s]"
      ]
     },
     "metadata": {},
     "output_type": "display_data"
    },
    {
     "data": {
      "image/png": "[encoded data removed]",
      "text/plain": [
       "<Figure size 1000x600 with 1 Axes>"
      ]
     },
     "metadata": {},
     "output_type": "display_data"
    }
   ],
   "source": [
    "delta_0 = 100\n",
    "mu = 1\n",
    "L = 2\n",
    "alpha = 0.1\n",
    "R = 1\n",
    "iters = 100\n",
    "\n",
    "seq = generate_seq(delta_0, mu, L, alpha, R, iters)\n",
    "\n",
    "\n",
    "with sns.plotting_context('notebook'), sns.axes_style('darkgrid'):\n",
    "    plt.figure(figsize=(10, 6))\n",
    "    plt.plot(range(iters + 1), seq)\n",
    "    plt.show()\n"
   ]
  },
  {
   "cell_type": "code",
   "execution_count": 45,
   "metadata": {},
   "outputs": [
    {
     "data": {
      "text/plain": [
       "[100,\n",
       " 8.001706382176275,\n",
       " 5.385790307896111,\n",
       " 3.8486821812211147,\n",
       " 2.849768894113943,\n",
       " 2.170185671995497,\n",
       " 1.697168605924856,\n",
       " 1.3637193993245589,\n",
       " 1.1266855722478217,\n",
       " 0.9570631970866327,\n",
       " 0.834939129177939,\n",
       " 0.7464956376533921,\n",
       " 0.682083854020114,\n",
       " 0.6349296305987799,\n",
       " 0.6002488374265732,\n",
       " 0.5746398832138571,\n",
       " 0.555666512769175,\n",
       " 0.541571042944759,\n",
       " 0.5310765786733648,\n",
       " 0.5232497505907093,\n",
       " 0.5174046626540927,\n",
       " 0.5130350444674551,\n",
       " 0.5097658669109684,\n",
       " 0.5073185252724359,\n",
       " 0.5054855826771392,\n",
       " 0.5041123216029111,\n",
       " 0.5030831907224278,\n",
       " 0.5023118016440502,\n",
       " 0.501733518359267,\n",
       " 0.5012999514381768,\n",
       " 0.500974858166877,\n",
       " 0.500731084315037,\n",
       " 0.500548279867577,\n",
       " 0.5004111911279361,\n",
       " 0.5003083827850782,\n",
       " 0.5002312811478089,\n",
       " 0.50017345751883,\n",
       " 0.5001300912591421,\n",
       " 0.5000975673868294,\n",
       " 0.500073174945247,\n",
       " 0.5000548808743112,\n",
       " 0.5000411604675045,\n",
       " 0.5000308702447483,\n",
       " 0.5000231526240033,\n",
       " 0.500017364434501,\n",
       " 0.500013023307031,\n",
       " 0.500009767469673,\n",
       " 0.5000073255962921,\n",
       " 0.5000054941938651,\n",
       " 0.5000041206435122,\n",
       " 0.5000030904815729,\n",
       " 0.5000023178605827,\n",
       " 0.5000017383951012,\n",
       " 0.5000013037961369,\n",
       " 0.5000009778469965,\n",
       " 0.5000007333851876,\n",
       " 0.5000005500388571,\n",
       " 0.500000412529124,\n",
       " 0.5000003093968324,\n",
       " 0.5000002320476182,\n",
       " 0.5000001740357103,\n",
       " 0.5000001305267808,\n",
       " 0.5000000978950846,\n",
       " 0.5000000734213128,\n",
       " 0.5000000550659843,\n",
       " 0.500000041299488,\n",
       " 0.5000000309746159,\n",
       " 0.5000000232309618,\n",
       " 0.5000000174232213,\n",
       " 0.5000000130674159,\n",
       " 0.5000000098005619,\n",
       " 0.5000000073504215,\n",
       " 0.5000000055128161,\n",
       " 0.500000004134612,\n",
       " 0.500000003100959,\n",
       " 0.5000000023257193,\n",
       " 0.5000000017442894,\n",
       " 0.5000000013082171,\n",
       " 0.5000000009811627,\n",
       " 0.500000000735872,\n",
       " 0.500000000551904,\n",
       " 0.500000000413928,\n",
       " 0.500000000310446,\n",
       " 0.5000000002328345,\n",
       " 0.5000000001746259,\n",
       " 0.5000000001309693,\n",
       " 0.500000000098227,\n",
       " 0.5000000000736703,\n",
       " 0.5000000000552527,\n",
       " 0.5000000000414395,\n",
       " 0.5000000000310796,\n",
       " 0.5000000000233097,\n",
       " 0.5000000000174822,\n",
       " 0.5000000000131116,\n",
       " 0.5000000000098337,\n",
       " 0.5000000000073753,\n",
       " 0.5000000000055315,\n",
       " 0.5000000000041486,\n",
       " 0.5000000000031114,\n",
       " 0.5000000000023335,\n",
       " 0.50000000000175]"
      ]
     },
     "execution_count": 45,
     "metadata": {},
     "output_type": "execute_result"
    }
   ],
   "source": [
    "seq"
   ]
  },
  {
   "cell_type": "code",
   "execution_count": null,
   "metadata": {},
   "outputs": [],
   "source": []
  }
 ],
 "metadata": {
  "kernelspec": {
   "display_name": "Python 3",
   "language": "python",
   "name": "python3"
  },
  "language_info": {
   "codemirror_mode": {
    "name": "ipython",
    "version": 3
   },
   "file_extension": ".py",
   "mimetype": "text/x-python",
   "name": "python",
   "nbconvert_exporter": "python",
   "pygments_lexer": "ipython3",
   "version": "3.9.7 (default, Mar  6 2022, 17:00:56) \n[GCC 9.3.0]"
  },
  "orig_nbformat": 4,
  "vscode": {
   "interpreter": {
    "hash": "69b891504d817afe375cdb77938e77cf80cf34a93169d7744d7151294cdf6918"
   }
  }
 },
 "nbformat": 4,
 "nbformat_minor": 2
}
