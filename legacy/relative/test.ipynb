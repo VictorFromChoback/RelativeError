{
 "cells": [
  {
   "cell_type": "code",
   "execution_count": 1,
   "metadata": {},
   "outputs": [
    {
     "name": "stdout",
     "output_type": "stream",
     "text": [
      "-14.0 -2.0\n"
     ]
    }
   ],
   "source": [
    "from scipy.optimize import minimize\n",
    "import scipy.stats as sps\n",
    "import numpy as np\n",
    "\n",
    "func = lambda x: x[0] * (4 - x[0] * x[1])\n",
    "x0 = np.array([0, 2])\n",
    "bounds = [(-1, 1), (2, 10)]\n",
    "min_val = minimize(func, x0, bounds=bounds).fun\n",
    "max_val = minimize(lambda x: -func(x), x0, bounds=bounds).fun\n",
    "\n",
    "print(min_val, max_val)"
   ]
  },
  {
   "cell_type": "code",
   "execution_count": 58,
   "metadata": {},
   "outputs": [],
   "source": [
    "def psi(x):\n",
    "    return x ** 2 / 2 - 2 * x - 4 * np.log(1 + np.exp(-x)) - 4 * np.log(2)\n",
    "\n",
    "def psigrad(x):\n",
    "    return x - 2 + 4 / (1 + np.exp(x))\n",
    "\n",
    "def psigrad2(x):\n",
    "    return x ** 3\n",
    "\n",
    "\n",
    "def ff(x, psigrad):\n",
    "    mu = 1\n",
    "    L = 1000\n",
    "    n = len(x)\n",
    "    a = b = c = 0\n",
    "    for j in range(n):\n",
    "        a += (psigrad(x[j]) * L + mu * x[j]) * x[j]\n",
    "        b += (psigrad(x[j]) * L + mu * x[j]) ** 2\n",
    "        c += x[j] ** 2\n",
    "    print(a, b, c)\n",
    "    return a / np.sqrt(b * c)\n"
   ]
  },
  {
   "cell_type": "code",
   "execution_count": 29,
   "metadata": {},
   "outputs": [],
   "source": [
    "def f(x):\n",
    "    mu = 0.1\n",
    "    L = 1000\n",
    "    d = 10\n",
    "    for j in range(d):\n",
    "    a = mu * x[0] ** 2 + L * x[1] ** 2\n",
    "    b = np.sqrt(x[0] ** 2 + x[1] ** 2)\n",
    "    c = np.sqrt(mu * mu * x[0] ** 2 + L * L * x[1] ** 2)\n",
    "    return a / b / c\n"
   ]
  },
  {
   "cell_type": "code",
   "execution_count": 56,
   "metadata": {},
   "outputs": [],
   "source": [
    "from functools import partial\n",
    "\n",
    "fff = partial(ff, psigrad=psigrad2)\n"
   ]
  },
  {
   "cell_type": "code",
   "execution_count": 30,
   "metadata": {},
   "outputs": [],
   "source": [
    "from functools import partial\n",
    "\n",
    "fff = partial(f, psi=psi, psigrad=psigrad)\n",
    "\n",
    "x0 = np.array([7, 7])\n",
    "B = 100\n",
    "bounds = [(-B, -B), (B, B)]\n",
    "min_val = minimize(fff, x0, bounds=bounds).fun\n"
   ]
  },
  {
   "cell_type": "code",
   "execution_count": 31,
   "metadata": {},
   "outputs": [
    {
     "data": {
      "text/plain": [
       "0.7071774883287787"
      ]
     },
     "execution_count": 31,
     "metadata": {},
     "output_type": "execute_result"
    }
   ],
   "source": [
    "min_val"
   ]
  },
  {
   "cell_type": "code",
   "execution_count": 57,
   "metadata": {},
   "outputs": [
    {
     "ename": "TypeError",
     "evalue": "loop of ufunc does not support argument 0 of type int which has no callable sqrt method",
     "output_type": "error",
     "traceback": [
      "\u001b[0;31m---------------------------------------------------------------------------\u001b[0m",
      "\u001b[0;31mAttributeError\u001b[0m                            Traceback (most recent call last)",
      "\u001b[0;31mAttributeError\u001b[0m: 'int' object has no attribute 'sqrt'",
      "\nThe above exception was the direct cause of the following exception:\n",
      "\u001b[0;31mTypeError\u001b[0m                                 Traceback (most recent call last)",
      "Cell \u001b[0;32mIn[57], line 1\u001b[0m\n\u001b[0;32m----> 1\u001b[0m fff((\u001b[39m-\u001b[39;49m\u001b[39m100\u001b[39;49m, \u001b[39m1\u001b[39;49m, \u001b[39m100\u001b[39;49m, \u001b[39m-\u001b[39;49m\u001b[39m100\u001b[39;49m, \u001b[39m10\u001b[39;49m, \u001b[39m10\u001b[39;49m))\n",
      "Cell \u001b[0;32mIn[55], line 20\u001b[0m, in \u001b[0;36mff\u001b[0;34m(x, psigrad)\u001b[0m\n\u001b[1;32m     18\u001b[0m     b \u001b[39m+\u001b[39m\u001b[39m=\u001b[39m (psigrad(x[j]) \u001b[39m*\u001b[39m L \u001b[39m+\u001b[39m mu \u001b[39m*\u001b[39m x[j]) \u001b[39m*\u001b[39m\u001b[39m*\u001b[39m \u001b[39m2\u001b[39m\n\u001b[1;32m     19\u001b[0m     c \u001b[39m+\u001b[39m\u001b[39m=\u001b[39m x[j] \u001b[39m*\u001b[39m\u001b[39m*\u001b[39m \u001b[39m2\u001b[39m\n\u001b[0;32m---> 20\u001b[0m \u001b[39mreturn\u001b[39;00m a \u001b[39m/\u001b[39m np\u001b[39m.\u001b[39;49msqrt(b \u001b[39m*\u001b[39;49m c)\n",
      "\u001b[0;31mTypeError\u001b[0m: loop of ufunc does not support argument 0 of type int which has no callable sqrt method"
     ]
    }
   ],
   "source": [
    "fff((-100, 1, 100, -100, 10, 10))"
   ]
  },
  {
   "cell_type": "code",
   "execution_count": 93,
   "metadata": {},
   "outputs": [
    {
     "data": {
      "text/plain": [
       "0.9987591941473215"
      ]
     },
     "execution_count": 93,
     "metadata": {},
     "output_type": "execute_result"
    }
   ],
   "source": [
    "fff((0.1, 2))"
   ]
  },
  {
   "cell_type": "code",
   "execution_count": 88,
   "metadata": {},
   "outputs": [
    {
     "data": {
      "text/plain": [
       "0.735174260300651"
      ]
     },
     "execution_count": 88,
     "metadata": {},
     "output_type": "execute_result"
    }
   ],
   "source": [
    "fff((1, 1, 1, 2, 1, 1, 1, 1, 1, 1, 1, 4, 1, 1, 1, 1, 1, 1, 1))"
   ]
  },
  {
   "cell_type": "code",
   "execution_count": 82,
   "metadata": {},
   "outputs": [
    {
     "name": "stdout",
     "output_type": "stream",
     "text": [
      "[1, 1, 1, 1, 1, 1, 1, 1, 1, 1, 1, 1, 1, 1, 1, 1, 1, 1, 1, 1, 1, 1, 1, 1, 1, 1, 1, 1, 1, 1, 1, 1, 1, 1, 1, 1, 1, 1, 1, 1, 1, 1, 1, 1, 1, 1, 1, 1, 1, 1, 1, 1, 1, 1, 1, 1, 1, 1, 1, 1, 1, 1, 1, 1, 1, 1, 1, 1, 1, 1, 1, 1, 1, 1, 1, 1, 1, 1, 1, 1, 1, 1, 1, 1, 1, 1, 1, 1, 1, 1, 1, 1, 1, 1, 1, 1, 1, 1, 1, 1]\n"
     ]
    },
    {
     "data": {
      "text/plain": [
       "1.0"
      ]
     },
     "execution_count": 82,
     "metadata": {},
     "output_type": "execute_result"
    }
   ],
   "source": [
    "d = 100\n",
    "x = [1 for j in range(d)]\n",
    "x[0] = 2\n",
    "fff(x)"
   ]
  },
  {
   "cell_type": "code",
   "execution_count": 62,
   "metadata": {},
   "outputs": [],
   "source": [
    "def gen():\n",
    "    iters = 1000\n",
    "    p = 0.6\n",
    "    k = 10\n",
    "    sums = []\n",
    "    for j in range(iters):\n",
    "        sums.append(\n",
    "            np.sum([sps.uniform.rvs(loc=0, scale=np.pi) if sps.bernoulli.rvs(p=p) else sps.uniform.rvs(loc=-np.pi, scale=np.pi)\n",
    "                    for _ in range(k)])\n",
    "        )\n",
    "    return sums\n",
    "\n",
    "def prob(a):\n",
    "    return np.mean(np.array(a) > 0)"
   ]
  },
  {
   "cell_type": "code",
   "execution_count": 63,
   "metadata": {},
   "outputs": [
    {
     "data": {
      "text/plain": [
       "0.702"
      ]
     },
     "execution_count": 63,
     "metadata": {},
     "output_type": "execute_result"
    }
   ],
   "source": [
    "prob(gen())"
   ]
  },
  {
   "cell_type": "code",
   "execution_count": 13,
   "metadata": {},
   "outputs": [
    {
     "data": {
      "text/plain": [
       "2.5597363133702906"
      ]
     },
     "execution_count": 13,
     "metadata": {},
     "output_type": "execute_result"
    }
   ],
   "source": [
    "sps.uniform.rvs(loc=0, scale=np.pi)"
   ]
  },
  {
   "cell_type": "code",
   "execution_count": null,
   "metadata": {},
   "outputs": [],
   "source": []
  }
 ],
 "metadata": {
  "kernelspec": {
   "display_name": "Python 3",
   "language": "python",
   "name": "python3"
  },
  "language_info": {
   "codemirror_mode": {
    "name": "ipython",
    "version": 3
   },
   "file_extension": ".py",
   "mimetype": "text/x-python",
   "name": "python",
   "nbconvert_exporter": "python",
   "pygments_lexer": "ipython3",
   "version": "3.9.7"
  },
  "orig_nbformat": 4,
  "vscode": {
   "interpreter": {
    "hash": "69b891504d817afe375cdb77938e77cf80cf34a93169d7744d7151294cdf6918"
   }
  }
 },
 "nbformat": 4,
 "nbformat_minor": 2
}
